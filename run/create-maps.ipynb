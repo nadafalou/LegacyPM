{
 "cells": [
  {
   "cell_type": "code",
   "execution_count": 1,
   "id": "2991ca5a-fffd-4769-b8da-e2f2097e5f31",
   "metadata": {
    "tags": []
   },
   "outputs": [],
   "source": [
    "from __future__ import print_function\n",
    "import os\n",
    "from glob import glob\n",
    "import numpy as np\n",
    "# from pixmappy.pixmappy import DESMaps, Gnomonic, Tweak, DECamTweak\n",
    "from astropy.io import fits\n",
    "from astropy.time import Time\n",
    "from astropy.coordinates.angles import Angle\n",
    "from astropy import units as u\n",
    "from astrometry.util.fits import *\n",
    "import numpy as np\n",
    "import matplotlib.pyplot as plt\n",
    "from collections import Counter\n",
    "from random import randint\n",
    "# from legacypipe.py.legacypipe.survey import radec_at_mjd\n",
    "from scipy.optimize import leastsq, minimize, curve_fit\n",
    "from scipy.interpolate import RectBivariateSpline\n",
    "import sys\n",
    "sys.path.append(os.path.abspath(os.path.join(os.path.dirname('py_files'), '..')))\n",
    "from py_files import create_brick_catalogue\n",
    "from py_files import brick_ringmaps\n",
    "from py_files import brick_DCR\n",
    "from py_files import brick_lateralmaps\n",
    "\n",
    "%load_ext autoreload\n",
    "%autoreload 2"
   ]
  },
  {
   "cell_type": "code",
   "execution_count": 2,
   "id": "23a7957b-5a82-4e58-8f61-cfdee2e5d6de",
   "metadata": {},
   "outputs": [],
   "source": [
    "old_dir = '/pscratch/sd/d/dstn/forced-motions-dr10/gaia-stars/'\n",
    "dcr_dir = '/pscratch/sd/n/nelfalou/dcr-gaia-stars/'"
   ]
  },
  {
   "cell_type": "code",
   "execution_count": null,
   "id": "32975b64-0452-4fad-969e-90836e49ff2d",
   "metadata": {
    "tags": []
   },
   "outputs": [
    {
     "name": "stdout",
     "output_type": "stream",
     "text": [
      "gaia-forced-009.fits\n"
     ]
    }
   ],
   "source": [
    "brick_DCR.create_corrected_gaia(dcr_dir, old_dir)"
   ]
  },
  {
   "cell_type": "code",
   "execution_count": 6,
   "id": "628e228b-7e0d-4720-954e-5aa0b9670545",
   "metadata": {
    "collapsed": true,
    "jupyter": {
     "outputs_hidden": true
    }
   },
   "outputs": [
    {
     "name": "stdout",
     "output_type": "stream",
     "text": [
      "45\n",
      "8397107 Gaia from /pscratch/sd/n/nelfalou/dcr-gaia-stars/gaia-forced-000.fits\n",
      "8844067 Gaia from /pscratch/sd/n/nelfalou/dcr-gaia-stars/gaia-forced-001.fits\n",
      "8657094 Gaia from /pscratch/sd/n/nelfalou/dcr-gaia-stars/gaia-forced-002.fits\n",
      "8649862 Gaia from /pscratch/sd/n/nelfalou/dcr-gaia-stars/gaia-forced-003.fits\n",
      "8779493 Gaia from /pscratch/sd/n/nelfalou/dcr-gaia-stars/gaia-forced-004.fits\n",
      "13543942 Gaia from /pscratch/sd/n/nelfalou/dcr-gaia-stars/gaia-forced-005.fits\n",
      "17260643 Gaia from /pscratch/sd/n/nelfalou/dcr-gaia-stars/gaia-forced-006.fits\n",
      "12154819 Gaia from /pscratch/sd/n/nelfalou/dcr-gaia-stars/gaia-forced-007.fits\n",
      "12738131 Gaia from /pscratch/sd/n/nelfalou/dcr-gaia-stars/gaia-forced-008.fits\n",
      "13456283 Gaia from /pscratch/sd/n/nelfalou/dcr-gaia-stars/gaia-forced-009.fits\n",
      "13673946 Gaia from /pscratch/sd/n/nelfalou/dcr-gaia-stars/gaia-forced-010.fits\n",
      "11981229 Gaia from /pscratch/sd/n/nelfalou/dcr-gaia-stars/gaia-forced-011.fits\n",
      "12033642 Gaia from /pscratch/sd/n/nelfalou/dcr-gaia-stars/gaia-forced-012.fits\n",
      "13541572 Gaia from /pscratch/sd/n/nelfalou/dcr-gaia-stars/gaia-forced-013.fits\n",
      "14170067 Gaia from /pscratch/sd/n/nelfalou/dcr-gaia-stars/gaia-forced-014.fits\n",
      "17188146 Gaia from /pscratch/sd/n/nelfalou/dcr-gaia-stars/gaia-forced-015.fits\n",
      "15163070 Gaia from /pscratch/sd/n/nelfalou/dcr-gaia-stars/gaia-forced-016.fits\n",
      "13586862 Gaia from /pscratch/sd/n/nelfalou/dcr-gaia-stars/gaia-forced-017.fits\n",
      "11953381 Gaia from /pscratch/sd/n/nelfalou/dcr-gaia-stars/gaia-forced-018.fits\n",
      "10360514 Gaia from /pscratch/sd/n/nelfalou/dcr-gaia-stars/gaia-forced-019.fits\n",
      "9128330 Gaia from /pscratch/sd/n/nelfalou/dcr-gaia-stars/gaia-forced-020.fits\n",
      "8947885 Gaia from /pscratch/sd/n/nelfalou/dcr-gaia-stars/gaia-forced-021.fits\n",
      "8734143 Gaia from /pscratch/sd/n/nelfalou/dcr-gaia-stars/gaia-forced-022.fits\n",
      "9435566 Gaia from /pscratch/sd/n/nelfalou/dcr-gaia-stars/gaia-forced-023.fits\n",
      "9058958 Gaia from /pscratch/sd/n/nelfalou/dcr-gaia-stars/gaia-forced-024.fits\n",
      "8773077 Gaia from /pscratch/sd/n/nelfalou/dcr-gaia-stars/gaia-forced-025.fits\n",
      "8645993 Gaia from /pscratch/sd/n/nelfalou/dcr-gaia-stars/gaia-forced-026.fits\n",
      "9427539 Gaia from /pscratch/sd/n/nelfalou/dcr-gaia-stars/gaia-forced-027.fits\n",
      "9528224 Gaia from /pscratch/sd/n/nelfalou/dcr-gaia-stars/gaia-forced-028.fits\n",
      "9198250 Gaia from /pscratch/sd/n/nelfalou/dcr-gaia-stars/gaia-forced-029.fits\n",
      "9114433 Gaia from /pscratch/sd/n/nelfalou/dcr-gaia-stars/gaia-forced-030.fits\n",
      "8454236 Gaia from /pscratch/sd/n/nelfalou/dcr-gaia-stars/gaia-forced-031.fits\n",
      "8086600 Gaia from /pscratch/sd/n/nelfalou/dcr-gaia-stars/gaia-forced-032.fits\n",
      "8054289 Gaia from /pscratch/sd/n/nelfalou/dcr-gaia-stars/gaia-forced-033.fits\n",
      "8271573 Gaia from /pscratch/sd/n/nelfalou/dcr-gaia-stars/gaia-forced-034.fits\n",
      "8396198 Gaia from /pscratch/sd/n/nelfalou/dcr-gaia-stars/gaia-forced-035.fits\n",
      "8433832 Gaia from /pscratch/sd/n/nelfalou/dcr-gaia-stars/gaia-forced-036.fits\n",
      "8472575 Gaia from /pscratch/sd/n/nelfalou/dcr-gaia-stars/gaia-forced-037.fits\n",
      "8533425 Gaia from /pscratch/sd/n/nelfalou/dcr-gaia-stars/gaia-forced-038.fits\n",
      "9516620 Gaia from /pscratch/sd/n/nelfalou/dcr-gaia-stars/gaia-forced-039.fits\n",
      "9222325 Gaia from /pscratch/sd/n/nelfalou/dcr-gaia-stars/gaia-forced-040.fits\n",
      "7725309 Gaia from /pscratch/sd/n/nelfalou/dcr-gaia-stars/gaia-forced-041.fits\n",
      "7745083 Gaia from /pscratch/sd/n/nelfalou/dcr-gaia-stars/gaia-forced-042.fits\n",
      "7560293 Gaia from /pscratch/sd/n/nelfalou/dcr-gaia-stars/gaia-forced-043.fits\n",
      "6795212 Gaia from /pscratch/sd/n/nelfalou/dcr-gaia-stars/gaia-forced-044.fits\n"
     ]
    }
   ],
   "source": [
    "fns = glob(dcr_dir + 'gaia-*.fits')\n",
    "fns.sort()\n",
    "print(len(fns))\n",
    "\n",
    "FF = []\n",
    "for fn in fns:\n",
    "    forced = fits_table(fn)\n",
    "    print(len(forced), 'Gaia from', fn)\n",
    "    FF.append(forced)\n",
    "data = merge_tables(FF)"
   ]
  },
  {
   "cell_type": "code",
   "execution_count": 16,
   "id": "69f0d462-62d5-4928-9dec-02f039140487",
   "metadata": {},
   "outputs": [
    {
     "data": {
      "text/plain": [
       "461393838"
      ]
     },
     "execution_count": 16,
     "metadata": {},
     "output_type": "execute_result"
    }
   ],
   "source": [
    "len(data)"
   ]
  },
  {
   "cell_type": "code",
   "execution_count": 3,
   "id": "fead3f9d-9d6a-4b3c-9669-d641f8f77127",
   "metadata": {},
   "outputs": [],
   "source": [
    "rm_dir = '/pscratch/sd/n/nelfalou/rm-gaia-stars/'"
   ]
  },
  {
   "cell_type": "code",
   "execution_count": 8,
   "id": "62ead5fa-5654-4ee5-8a36-3e410d411b34",
   "metadata": {},
   "outputs": [],
   "source": [
    "brick_ringmaps.make_ringmaps(data, rm_dir + 'ringmaps.fits')"
   ]
  },
  {
   "cell_type": "code",
   "execution_count": 11,
   "id": "e129ba87-09ab-4cc3-83d3-db022cf095b9",
   "metadata": {},
   "outputs": [],
   "source": [
    "rmaps = brick_ringmaps.get_ringmaps(rm_dir + 'ringmaps.fits')\n",
    "tweaks = brick_ringmaps.make_splines(rmaps)\n",
    "# brick_ringmaps.create_corrected_data(rm_dir, dcr_dir, tweaks, cont=True)"
   ]
  },
  {
   "cell_type": "code",
   "execution_count": 15,
   "id": "9985edbc-ea65-46b6-ac54-30a04b8222d5",
   "metadata": {
    "collapsed": true,
    "jupyter": {
     "outputs_hidden": true
    }
   },
   "outputs": [
    {
     "name": "stdout",
     "output_type": "stream",
     "text": [
      "/pscratch/sd/n/nelfalou/dcr-gaia-stars/gaia-forced-008.fits\n",
      "/pscratch/sd/n/nelfalou/dcr-gaia-stars/gaia-forced-041.fits\n",
      "/pscratch/sd/n/nelfalou/dcr-gaia-stars/gaia-forced-020.fits\n",
      "/pscratch/sd/n/nelfalou/dcr-gaia-stars/gaia-forced-033.fits\n",
      "/pscratch/sd/n/nelfalou/dcr-gaia-stars/gaia-forced-005.fits\n",
      "/pscratch/sd/n/nelfalou/dcr-gaia-stars/gaia-forced-007.fits\n",
      "/pscratch/sd/n/nelfalou/dcr-gaia-stars/gaia-forced-038.fits\n",
      "/pscratch/sd/n/nelfalou/dcr-gaia-stars/gaia-forced-013.fits\n",
      "/pscratch/sd/n/nelfalou/dcr-gaia-stars/gaia-forced-024.fits\n",
      "/pscratch/sd/n/nelfalou/dcr-gaia-stars/gaia-forced-035.fits\n",
      "/pscratch/sd/n/nelfalou/dcr-gaia-stars/gaia-forced-004.fits\n",
      "/pscratch/sd/n/nelfalou/dcr-gaia-stars/gaia-forced-014.fits\n",
      "/pscratch/sd/n/nelfalou/dcr-gaia-stars/gaia-forced-040.fits\n",
      "/pscratch/sd/n/nelfalou/dcr-gaia-stars/gaia-forced-019.fits\n",
      "/pscratch/sd/n/nelfalou/dcr-gaia-stars/gaia-forced-015.fits\n",
      "/pscratch/sd/n/nelfalou/dcr-gaia-stars/gaia-forced-022.fits\n",
      "/pscratch/sd/n/nelfalou/dcr-gaia-stars/gaia-forced-016.fits\n",
      "/pscratch/sd/n/nelfalou/dcr-gaia-stars/gaia-forced-044.fits\n",
      "/pscratch/sd/n/nelfalou/dcr-gaia-stars/gaia-forced-003.fits\n",
      "/pscratch/sd/n/nelfalou/dcr-gaia-stars/gaia-forced-009.fits\n",
      "/pscratch/sd/n/nelfalou/dcr-gaia-stars/gaia-forced-001.fits\n",
      "/pscratch/sd/n/nelfalou/dcr-gaia-stars/gaia-forced-006.fits\n",
      "/pscratch/sd/n/nelfalou/dcr-gaia-stars/gaia-forced-011.fits\n",
      "/pscratch/sd/n/nelfalou/dcr-gaia-stars/gaia-forced-012.fits\n",
      "/pscratch/sd/n/nelfalou/dcr-gaia-stars/gaia-forced-039.fits\n",
      "/pscratch/sd/n/nelfalou/dcr-gaia-stars/gaia-forced-034.fits\n",
      "/pscratch/sd/n/nelfalou/dcr-gaia-stars/gaia-forced-025.fits\n",
      "/pscratch/sd/n/nelfalou/dcr-gaia-stars/gaia-forced-000.fits\n",
      "/pscratch/sd/n/nelfalou/dcr-gaia-stars/gaia-forced-036.fits\n",
      "/pscratch/sd/n/nelfalou/dcr-gaia-stars/gaia-forced-031.fits\n",
      "/pscratch/sd/n/nelfalou/dcr-gaia-stars/gaia-forced-037.fits\n",
      "/pscratch/sd/n/nelfalou/dcr-gaia-stars/gaia-forced-027.fits\n",
      "/pscratch/sd/n/nelfalou/dcr-gaia-stars/gaia-forced-029.fits\n",
      "/pscratch/sd/n/nelfalou/dcr-gaia-stars/gaia-forced-002.fits\n",
      "/pscratch/sd/n/nelfalou/dcr-gaia-stars/gaia-forced-023.fits\n",
      "/pscratch/sd/n/nelfalou/dcr-gaia-stars/gaia-forced-018.fits\n",
      "/pscratch/sd/n/nelfalou/dcr-gaia-stars/gaia-forced-043.fits\n",
      "/pscratch/sd/n/nelfalou/dcr-gaia-stars/gaia-forced-021.fits\n",
      "/pscratch/sd/n/nelfalou/dcr-gaia-stars/gaia-forced-042.fits\n",
      "/pscratch/sd/n/nelfalou/dcr-gaia-stars/gaia-forced-028.fits\n",
      "/pscratch/sd/n/nelfalou/dcr-gaia-stars/gaia-forced-032.fits\n",
      "/pscratch/sd/n/nelfalou/dcr-gaia-stars/gaia-forced-017.fits\n",
      "/pscratch/sd/n/nelfalou/dcr-gaia-stars/gaia-forced-010.fits\n",
      "/pscratch/sd/n/nelfalou/dcr-gaia-stars/gaia-forced-030.fits\n",
      "/pscratch/sd/n/nelfalou/dcr-gaia-stars/gaia-forced-026.fits\n"
     ]
    }
   ],
   "source": [
    "for filename in os.listdir(dcr_dir):\n",
    "    f = os.path.join(dcr_dir, filename)\n",
    "    print(f) \n",
    "    brick_ringmaps.create_brick_corrected_data(filename, rm_dir, dcr_dir, tweaks)"
   ]
  },
  {
   "cell_type": "code",
   "execution_count": 4,
   "id": "18353154-7e74-4361-bcd7-ba07bca5f510",
   "metadata": {},
   "outputs": [
    {
     "name": "stdout",
     "output_type": "stream",
     "text": [
      "45\n",
      "8397107 Gaia from /pscratch/sd/n/nelfalou/rm-gaia-stars/gaia-forced-000.fits\n",
      "8844067 Gaia from /pscratch/sd/n/nelfalou/rm-gaia-stars/gaia-forced-001.fits\n",
      "8657094 Gaia from /pscratch/sd/n/nelfalou/rm-gaia-stars/gaia-forced-002.fits\n",
      "8649862 Gaia from /pscratch/sd/n/nelfalou/rm-gaia-stars/gaia-forced-003.fits\n",
      "8779493 Gaia from /pscratch/sd/n/nelfalou/rm-gaia-stars/gaia-forced-004.fits\n",
      "13543942 Gaia from /pscratch/sd/n/nelfalou/rm-gaia-stars/gaia-forced-005.fits\n",
      "17260643 Gaia from /pscratch/sd/n/nelfalou/rm-gaia-stars/gaia-forced-006.fits\n",
      "12154819 Gaia from /pscratch/sd/n/nelfalou/rm-gaia-stars/gaia-forced-007.fits\n",
      "12738131 Gaia from /pscratch/sd/n/nelfalou/rm-gaia-stars/gaia-forced-008.fits\n",
      "13456283 Gaia from /pscratch/sd/n/nelfalou/rm-gaia-stars/gaia-forced-009.fits\n",
      "13673946 Gaia from /pscratch/sd/n/nelfalou/rm-gaia-stars/gaia-forced-010.fits\n",
      "11981229 Gaia from /pscratch/sd/n/nelfalou/rm-gaia-stars/gaia-forced-011.fits\n",
      "12033642 Gaia from /pscratch/sd/n/nelfalou/rm-gaia-stars/gaia-forced-012.fits\n",
      "13541572 Gaia from /pscratch/sd/n/nelfalou/rm-gaia-stars/gaia-forced-013.fits\n",
      "14170067 Gaia from /pscratch/sd/n/nelfalou/rm-gaia-stars/gaia-forced-014.fits\n",
      "17188146 Gaia from /pscratch/sd/n/nelfalou/rm-gaia-stars/gaia-forced-015.fits\n",
      "15163070 Gaia from /pscratch/sd/n/nelfalou/rm-gaia-stars/gaia-forced-016.fits\n",
      "13586862 Gaia from /pscratch/sd/n/nelfalou/rm-gaia-stars/gaia-forced-017.fits\n",
      "11953381 Gaia from /pscratch/sd/n/nelfalou/rm-gaia-stars/gaia-forced-018.fits\n",
      "10360514 Gaia from /pscratch/sd/n/nelfalou/rm-gaia-stars/gaia-forced-019.fits\n",
      "9128330 Gaia from /pscratch/sd/n/nelfalou/rm-gaia-stars/gaia-forced-020.fits\n",
      "8947885 Gaia from /pscratch/sd/n/nelfalou/rm-gaia-stars/gaia-forced-021.fits\n",
      "8734143 Gaia from /pscratch/sd/n/nelfalou/rm-gaia-stars/gaia-forced-022.fits\n",
      "9435566 Gaia from /pscratch/sd/n/nelfalou/rm-gaia-stars/gaia-forced-023.fits\n",
      "9058958 Gaia from /pscratch/sd/n/nelfalou/rm-gaia-stars/gaia-forced-024.fits\n",
      "8773077 Gaia from /pscratch/sd/n/nelfalou/rm-gaia-stars/gaia-forced-025.fits\n",
      "8645993 Gaia from /pscratch/sd/n/nelfalou/rm-gaia-stars/gaia-forced-026.fits\n",
      "9427539 Gaia from /pscratch/sd/n/nelfalou/rm-gaia-stars/gaia-forced-027.fits\n",
      "9528224 Gaia from /pscratch/sd/n/nelfalou/rm-gaia-stars/gaia-forced-028.fits\n",
      "9198250 Gaia from /pscratch/sd/n/nelfalou/rm-gaia-stars/gaia-forced-029.fits\n",
      "9114433 Gaia from /pscratch/sd/n/nelfalou/rm-gaia-stars/gaia-forced-030.fits\n",
      "8454236 Gaia from /pscratch/sd/n/nelfalou/rm-gaia-stars/gaia-forced-031.fits\n",
      "8086600 Gaia from /pscratch/sd/n/nelfalou/rm-gaia-stars/gaia-forced-032.fits\n",
      "8054289 Gaia from /pscratch/sd/n/nelfalou/rm-gaia-stars/gaia-forced-033.fits\n",
      "8271573 Gaia from /pscratch/sd/n/nelfalou/rm-gaia-stars/gaia-forced-034.fits\n",
      "8396198 Gaia from /pscratch/sd/n/nelfalou/rm-gaia-stars/gaia-forced-035.fits\n",
      "8433832 Gaia from /pscratch/sd/n/nelfalou/rm-gaia-stars/gaia-forced-036.fits\n",
      "8472575 Gaia from /pscratch/sd/n/nelfalou/rm-gaia-stars/gaia-forced-037.fits\n",
      "8533425 Gaia from /pscratch/sd/n/nelfalou/rm-gaia-stars/gaia-forced-038.fits\n",
      "9516620 Gaia from /pscratch/sd/n/nelfalou/rm-gaia-stars/gaia-forced-039.fits\n",
      "9222325 Gaia from /pscratch/sd/n/nelfalou/rm-gaia-stars/gaia-forced-040.fits\n",
      "7725309 Gaia from /pscratch/sd/n/nelfalou/rm-gaia-stars/gaia-forced-041.fits\n",
      "7745083 Gaia from /pscratch/sd/n/nelfalou/rm-gaia-stars/gaia-forced-042.fits\n",
      "7560293 Gaia from /pscratch/sd/n/nelfalou/rm-gaia-stars/gaia-forced-043.fits\n",
      "6795212 Gaia from /pscratch/sd/n/nelfalou/rm-gaia-stars/gaia-forced-044.fits\n"
     ]
    }
   ],
   "source": [
    "fns = glob(rm_dir + 'gaia-*.fits')\n",
    "fns.sort()\n",
    "print(len(fns))\n",
    "\n",
    "FF = []\n",
    "TT = []\n",
    "for fn in fns:\n",
    "    forced = fits_table(fn)\n",
    "    print(len(forced), 'Gaia from', fn)\n",
    "    tractor = fits_table(old_dir + 'gaia-tractor-' + fn[-8:])\n",
    "\n",
    "    FF.append(forced)\n",
    "    TT.append(tractor)\n",
    "data = merge_tables(FF)\n",
    "T = merge_tables(TT)\n",
    "\n",
    "objmap = dict([((bid,oid),i) for i,(bid,oid) in enumerate(zip(T.brickid, T.objid))])\n",
    "data.t_index = np.array([objmap.get((bid,oid), -1) for bid,oid in zip(data.brickid, data.objid)])"
   ]
  },
  {
   "cell_type": "code",
   "execution_count": 5,
   "id": "35c27862-1bcf-45ea-b60f-a0a1cf1e9aeb",
   "metadata": {},
   "outputs": [
    {
     "data": {
      "text/plain": [
       "<bound method tabledata.columns of <tabledata object with 18017918 rows and 235 columns: release, brickid, brickname, objid, brick_primary, maskbits, fitbits, type, ra, dec, ra_ivar, dec_ivar, bx, by, dchisq, ebv, mjd_min, mjd_max, ref_cat, ref_id, pmra, pmdec, parallax, pmra_ivar, pmdec_ivar, parallax_ivar, ref_epoch, gaia_phot_g_mean_mag, gaia_phot_g_mean_flux_over_error, gaia_phot_g_n_obs, gaia_phot_bp_mean_mag, gaia_phot_bp_mean_flux_over_error, gaia_phot_bp_n_obs, gaia_phot_rp_mean_mag, gaia_phot_rp_mean_flux_over_error, gaia_phot_rp_n_obs, gaia_phot_variable_flag, gaia_astrometric_excess_noise, gaia_astrometric_excess_noise_sig, gaia_astrometric_n_obs_al, gaia_astrometric_n_good_obs_al, gaia_astrometric_weight_al, gaia_duplicated_source, gaia_a_g_val, gaia_e_bp_min_rp_val, gaia_phot_bp_rp_excess_factor, gaia_astrometric_sigma5d_max, gaia_astrometric_params_solved, flux_g, flux_r, flux_i, flux_z, flux_w1, flux_w2, flux_w3, flux_w4, flux_ivar_g, flux_ivar_r, flux_ivar_i, flux_ivar_z, flux_ivar_w1, flux_ivar_w2, flux_ivar_w3, flux_ivar_w4, fiberflux_g, fiberflux_r, fiberflux_i, fiberflux_z, fibertotflux_g, fibertotflux_r, fibertotflux_i, fibertotflux_z, apflux_g, apflux_r, apflux_i, apflux_z, apflux_resid_g, apflux_resid_r, apflux_resid_i, apflux_resid_z, apflux_blobresid_g, apflux_blobresid_r, apflux_blobresid_i, apflux_blobresid_z, apflux_ivar_g, apflux_ivar_r, apflux_ivar_i, apflux_ivar_z, apflux_masked_g, apflux_masked_r, apflux_masked_i, apflux_masked_z, apflux_w1, apflux_w2, apflux_w3, apflux_w4, apflux_resid_w1, apflux_resid_w2, apflux_resid_w3, apflux_resid_w4, apflux_ivar_w1, apflux_ivar_w2, apflux_ivar_w3, apflux_ivar_w4, mw_transmission_g, mw_transmission_r, mw_transmission_i, mw_transmission_z, mw_transmission_w1, mw_transmission_w2, mw_transmission_w3, mw_transmission_w4, nobs_g, nobs_r, nobs_i, nobs_z, nobs_w1, nobs_w2, nobs_w3, nobs_w4, rchisq_g, rchisq_r, rchisq_i, rchisq_z, rchisq_w1, rchisq_w2, rchisq_w3, rchisq_w4, fracflux_g, fracflux_r, fracflux_i, fracflux_z, fracflux_w1, fracflux_w2, fracflux_w3, fracflux_w4, fracmasked_g, fracmasked_r, fracmasked_i, fracmasked_z, fracin_g, fracin_r, fracin_i, fracin_z, ngood_g, ngood_r, ngood_i, ngood_z, anymask_g, anymask_r, anymask_i, anymask_z, allmask_g, allmask_r, allmask_i, allmask_z, wisemask_w1, wisemask_w2, psfsize_g, psfsize_r, psfsize_i, psfsize_z, psfdepth_g, psfdepth_r, psfdepth_i, psfdepth_z, galdepth_g, galdepth_r, galdepth_i, galdepth_z, nea_g, nea_r, nea_i, nea_z, blob_nea_g, blob_nea_r, blob_nea_i, blob_nea_z, psfdepth_w1, psfdepth_w2, psfdepth_w3, psfdepth_w4, wise_coadd_id, wise_x, wise_y, lc_flux_w1, lc_flux_w2, lc_flux_ivar_w1, lc_flux_ivar_w2, lc_nobs_w1, lc_nobs_w2, lc_fracflux_w1, lc_fracflux_w2, lc_rchisq_w1, lc_rchisq_w2, lc_mjd_w1, lc_mjd_w2, lc_epoch_index_w1, lc_epoch_index_w2, sersic, sersic_ivar, shape_r, shape_r_ivar, shape_e1, shape_e1_ivar, shape_e2, shape_e2_ivar, forced_flux_g, forced_flux_ivar_g, forced_apflux_g, forced_apflux_ivar_g, forced_psfdepth_g, forced_galdepth_g, forced_nexp_g, forced_flux_i, forced_flux_ivar_i, forced_apflux_i, forced_apflux_ivar_i, forced_psfdepth_i, forced_galdepth_i, forced_nexp_i, forced_flux_r, forced_flux_ivar_r, forced_apflux_r, forced_apflux_ivar_r, forced_psfdepth_r, forced_galdepth_r, forced_nexp_r, forced_flux_z, forced_flux_ivar_z, forced_apflux_z, forced_apflux_ivar_z, forced_psfdepth_z, forced_galdepth_z, forced_nexp_z>>"
      ]
     },
     "execution_count": 5,
     "metadata": {},
     "output_type": "execute_result"
    }
   ],
   "source": [
    "T.columns"
   ]
  },
  {
   "cell_type": "code",
   "execution_count": 6,
   "id": "b6061518-302e-4bbc-b3b9-49b35d29e77b",
   "metadata": {},
   "outputs": [],
   "source": [
    "dc = (T.flux_g - T.flux_i)[data.t_index]"
   ]
  },
  {
   "cell_type": "code",
   "execution_count": null,
   "id": "7f2041bd-03b2-46f9-9e78-54e5c30d32ad",
   "metadata": {},
   "outputs": [],
   "source": [
    "# fns = glob(old_dir + 'gaia-tractor-*.fits')\n",
    "# fns.sort()\n",
    "# print(len(fns))\n",
    "\n",
    "# TT = []\n",
    "# for fn in fns:\n",
    "#     tractor = fits_table(fn)\n",
    "#     print(len(tractor), 'Gaia from', fn)\n",
    "#     TT.append(tractor)\n",
    "# T = merge_tables(TT)\n",
    "# len(data)\n",
    "\n",
    "# dc = T.color[data.t_index]"
   ]
  },
  {
   "cell_type": "code",
   "execution_count": 7,
   "id": "509f5996-57d7-4131-958c-8feca1f27c42",
   "metadata": {},
   "outputs": [],
   "source": [
    "lm_dir = '/pscratch/sd/n/nelfalou/lm-gaia-stars/'\n",
    "\n",
    "brick_lateralmaps.make_lateralmaps(data, lm_dir + 'lateralmaps.fits', dc)"
   ]
  },
  {
   "cell_type": "code",
   "execution_count": null,
   "id": "10606abc-19ba-4fe7-b64b-5c6bab3da22a",
   "metadata": {},
   "outputs": [],
   "source": []
  }
 ],
 "metadata": {
  "kernelspec": {
   "display_name": "desi-pm",
   "language": "python",
   "name": "desi-pm"
  },
  "language_info": {
   "codemirror_mode": {
    "name": "ipython",
    "version": 3
   },
   "file_extension": ".py",
   "mimetype": "text/x-python",
   "name": "python",
   "nbconvert_exporter": "python",
   "pygments_lexer": "ipython3",
   "version": "3.11.4"
  }
 },
 "nbformat": 4,
 "nbformat_minor": 5
}
